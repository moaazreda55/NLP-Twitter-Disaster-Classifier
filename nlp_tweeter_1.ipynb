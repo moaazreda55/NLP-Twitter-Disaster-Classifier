{
 "cells": [
  {
   "cell_type": "code",
   "execution_count": 1,
   "id": "d2480217",
   "metadata": {},
   "outputs": [
    {
     "name": "stdout",
     "output_type": "stream",
     "text": [
      "18868\n"
     ]
    }
   ],
   "source": [
    "import numpy as np\n",
    "import pandas as pd\n",
    "import nltk\n",
    "import matplotlib.pyplot as plt\n",
    "import random\n",
    "\n",
    "df = pd.read_csv('D:/sql/Data set/NLP/train.csv')\n",
    "\n",
    "X = df['text']\n",
    "y = df['target']\n",
    "\n",
    "import re\n",
    "from nltk.stem import PorterStemmer\n",
    "from nltk.corpus import stopwords\n",
    "corpus = []\n",
    "for i in range(0, len(X)):\n",
    "    review = re.sub('[^a-zA-Z]', ' ', X[i])\n",
    "    review = review.lower()\n",
    "    review = nltk.word_tokenize(review)\n",
    "    ps = PorterStemmer()\n",
    "    all_stopwords = stopwords.words('english')\n",
    "    all_stopwords.remove('not')\n",
    "    review = [ps.stem(word) for word in review if not word in set(all_stopwords)]\n",
    "    review = ' '.join(review)\n",
    "    corpus.append(review)\n",
    "    \n",
    "from sklearn.feature_extraction.text import CountVectorizer\n",
    "cv = CountVectorizer()\n",
    "X = cv.fit_transform(corpus).toarray()\n",
    "print(len(cv.get_feature_names_out()))\n",
    "pd.DataFrame(X,columns=cv.get_feature_names_out())\n",
    "\n",
    "from sklearn.model_selection import train_test_split\n",
    "X_train, X_test, y_train, y_test = train_test_split(X, y,test_size=0.2,random_state=42)\n"
   ]
  },
  {
   "cell_type": "code",
   "execution_count": 2,
   "id": "c30f8364",
   "metadata": {},
   "outputs": [],
   "source": [
    "from sklearn.ensemble import RandomForestClassifier\n",
    "from sklearn.metrics import f1_score, accuracy_score, classification_report, ConfusionMatrixDisplay, confusion_matrix\n",
    "from xgboost import XGBClassifier\n",
    "import xgboost as xgb"
   ]
  },
  {
   "cell_type": "code",
   "execution_count": 30,
   "id": "89b9f368",
   "metadata": {},
   "outputs": [
    {
     "name": "stderr",
     "output_type": "stream",
     "text": [
      "D:\\Anaconda_3\\Lib\\site-packages\\xgboost\\data.py:520: FutureWarning: is_sparse is deprecated and will be removed in a future version. Check `isinstance(dtype, pd.SparseDtype)` instead.\n",
      "  if is_sparse(data):\n"
     ]
    },
    {
     "name": "stdout",
     "output_type": "stream",
     "text": [
      "[[728 146]\n",
      " [184 465]]\n",
      "\n",
      "\n",
      "              precision    recall  f1-score   support\n",
      "\n",
      "           0       0.80      0.83      0.82       874\n",
      "           1       0.76      0.72      0.74       649\n",
      "\n",
      "    accuracy                           0.78      1523\n",
      "   macro avg       0.78      0.77      0.78      1523\n",
      "weighted avg       0.78      0.78      0.78      1523\n",
      "\n"
     ]
    }
   ],
   "source": [
    "\n",
    "classifier_rf = XGBClassifier(eta = 0.3,max_depth=80,n_estimators=66,gamma =0,\n",
    "                                       random_state = 32)\n",
    "classifier_rf.fit(X_train, y_train)\n",
    "predictions = classifier_rf.predict(X_test)\n",
    "\n",
    "from sklearn.metrics import confusion_matrix,classification_report\n",
    "print(confusion_matrix(y_test,predictions))\n",
    "print('\\n')\n",
    "print(classification_report(y_test,predictions))"
   ]
  },
  {
   "cell_type": "code",
   "execution_count": null,
   "id": "31bf838c",
   "metadata": {},
   "outputs": [],
   "source": [
    "classifier_rfe = RandomForestClassifier(n_estimators = 22, criterion = 'entropy',max_depth=175,\n",
    "                                       random_state = 0)\n",
    "classifier_rfe.fit(X_train, y_train)\n",
    "predictions = classifier_rfe.predict(X_test)\n",
    "\n",
    "from sklearn.metrics import confusion_matrix,classification_report\n",
    "print(confusion_matrix(y_test,predictions))\n",
    "print('\\n')\n",
    "print(classification_report(y_test,predictions))"
   ]
  },
  {
   "cell_type": "code",
   "execution_count": 31,
   "id": "81533bc5",
   "metadata": {},
   "outputs": [],
   "source": [
    "df_test = pd.read_csv(\"D:/sql/Data set/NLP/test.csv\")\n",
    "sample_submission = pd.read_csv(\"D:/sql/Data set/NLP/sample_submission.csv\")"
   ]
  },
  {
   "cell_type": "code",
   "execution_count": 32,
   "id": "d9b8b5df",
   "metadata": {},
   "outputs": [],
   "source": [
    "X_=df_test['text']"
   ]
  },
  {
   "cell_type": "code",
   "execution_count": 33,
   "id": "72d56dc7",
   "metadata": {},
   "outputs": [],
   "source": [
    "import re\n",
    "import nltk\n",
    "from nltk.stem import PorterStemmer\n",
    "from nltk.corpus import stopwords\n",
    "corpus_1 = []\n",
    "for i in range(0, len(X_)):\n",
    "    review = re.sub('[^a-zA-Z]', ' ', X_[i])\n",
    "    review = review.lower()\n",
    "    review = nltk.word_tokenize(review)\n",
    "    ps = PorterStemmer()\n",
    "    all_stopwords = stopwords.words('english')\n",
    "    all_stopwords.remove('not')\n",
    "    review = [ps.stem(word) for word in review if not word in set(all_stopwords)]\n",
    "    review = ' '.join(review)\n",
    "    corpus_1.append(review)"
   ]
  },
  {
   "cell_type": "code",
   "execution_count": 34,
   "id": "5e8c9bd6",
   "metadata": {},
   "outputs": [
    {
     "name": "stdout",
     "output_type": "stream",
     "text": [
      "10765\n"
     ]
    }
   ],
   "source": [
    "ss= cv.fit_transform(corpus_1).toarray()\n",
    "print(len(cv.get_feature_names_out()))\n",
    "ss_X=pd.DataFrame(ss,columns=cv.get_feature_names_out())"
   ]
  },
  {
   "cell_type": "code",
   "execution_count": 35,
   "id": "12c82731",
   "metadata": {
    "scrolled": true
   },
   "outputs": [
    {
     "data": {
      "text/plain": [
       "18868"
      ]
     },
     "execution_count": 35,
     "metadata": {},
     "output_type": "execute_result"
    }
   ],
   "source": [
    "10765+8103"
   ]
  },
  {
   "cell_type": "code",
   "execution_count": 36,
   "id": "34768e98",
   "metadata": {},
   "outputs": [],
   "source": [
    "num_columns_to_add = 8103\n",
    "\n",
    "# Create a DataFrame with zero values\n",
    "zero_data = {\n",
    "    f'ZeroColumn{i}': [0] * len(ss_X) for i in range(1, num_columns_to_add + 1)\n",
    "}\n",
    "\n",
    "zero_df = pd.DataFrame(zero_data)\n",
    "\n",
    "# Concatenate the original DataFrame and the zero DataFrame along the columns (axis=1)\n",
    "result_df = pd.concat([ss_X, zero_df], axis=1)"
   ]
  },
  {
   "cell_type": "code",
   "execution_count": 37,
   "id": "21cbfdad",
   "metadata": {},
   "outputs": [
    {
     "data": {
      "text/plain": [
       "(3263, 18868)"
      ]
     },
     "execution_count": 37,
     "metadata": {},
     "output_type": "execute_result"
    }
   ],
   "source": [
    "result_df.shape"
   ]
  },
  {
   "cell_type": "code",
   "execution_count": 38,
   "id": "0cde0cc7",
   "metadata": {},
   "outputs": [],
   "source": [
    "X_TEST=result_df.values"
   ]
  },
  {
   "cell_type": "code",
   "execution_count": 39,
   "id": "86a3af51",
   "metadata": {},
   "outputs": [
    {
     "data": {
      "text/plain": [
       "(3263, 18868)"
      ]
     },
     "execution_count": 39,
     "metadata": {},
     "output_type": "execute_result"
    }
   ],
   "source": [
    "X_TEST.shape"
   ]
  },
  {
   "cell_type": "code",
   "execution_count": 40,
   "id": "11ebcbad",
   "metadata": {},
   "outputs": [],
   "source": [
    "sample_submission[\"target\"] = classifier_rf.predict(X_TEST)"
   ]
  },
  {
   "cell_type": "code",
   "execution_count": 41,
   "id": "d22d96bd",
   "metadata": {},
   "outputs": [
    {
     "data": {
      "text/plain": [
       "target\n",
       "0    3152\n",
       "1     111\n",
       "Name: count, dtype: int64"
      ]
     },
     "execution_count": 41,
     "metadata": {},
     "output_type": "execute_result"
    }
   ],
   "source": [
    "sample_submission[\"target\"].value_counts()"
   ]
  },
  {
   "cell_type": "code",
   "execution_count": null,
   "id": "88395cb2",
   "metadata": {},
   "outputs": [],
   "source": []
  },
  {
   "cell_type": "code",
   "execution_count": 42,
   "id": "a7359b3d",
   "metadata": {},
   "outputs": [],
   "source": [
    "sample_submission.to_csv(\"submission.csv\", index=False)"
   ]
  },
  {
   "cell_type": "code",
   "execution_count": null,
   "id": "cb1648ea",
   "metadata": {},
   "outputs": [],
   "source": []
  },
  {
   "cell_type": "code",
   "execution_count": null,
   "id": "a82ef188",
   "metadata": {},
   "outputs": [],
   "source": []
  }
 ],
 "metadata": {
  "kernelspec": {
   "display_name": "Python 3 (ipykernel)",
   "language": "python",
   "name": "python3"
  },
  "language_info": {
   "codemirror_mode": {
    "name": "ipython",
    "version": 3
   },
   "file_extension": ".py",
   "mimetype": "text/x-python",
   "name": "python",
   "nbconvert_exporter": "python",
   "pygments_lexer": "ipython3",
   "version": "3.11.5"
  }
 },
 "nbformat": 4,
 "nbformat_minor": 5
}
